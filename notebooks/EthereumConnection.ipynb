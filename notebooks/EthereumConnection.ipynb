{
 "cells": [
  {
   "cell_type": "markdown",
   "metadata": {},
   "source": [
    "# Talking to Ethereum (Web3)\n",
    "---"
   ]
  },
  {
   "cell_type": "code",
   "execution_count": 1,
   "metadata": {},
   "outputs": [],
   "source": [
    "from web3 import Web3\n",
    "import json\n",
    "import requests"
   ]
  },
  {
   "cell_type": "code",
   "execution_count": 5,
   "metadata": {},
   "outputs": [],
   "source": [
    "with open(\"credentials.json\", \"w\") as f:\n",
    "    data = {\"pass\":1,\"passd\":2}\n",
    "    json.dump(data, f)"
   ]
  },
  {
   "cell_type": "markdown",
   "metadata": {},
   "source": [
    "### Connecting to the Ethereum network\n",
    "Using infura to access a free node https://infura.io/ <br>\n",
    "Create a new project using the ETH version 1."
   ]
  },
  {
   "cell_type": "code",
   "execution_count": 67,
   "metadata": {},
   "outputs": [
    {
     "name": "stdout",
     "output_type": "stream",
     "text": [
      "True\n"
     ]
    }
   ],
   "source": [
    "infura_url = \"https://mainnet.infura.io/v3/c6e53e8cc46c479abc1365d0d02ace7f\"\n",
    "# Connecting to the network.\n",
    "con = Web3(Web3.HTTPProvider(infura_url))\n",
    "\n",
    "# Checking if the connection was successful and displaying number of blocks.\n",
    "print(con.isConnected())"
   ]
  },
  {
   "cell_type": "code",
   "execution_count": 68,
   "metadata": {},
   "outputs": [
    {
     "data": {
      "text/plain": [
       "13739530"
      ]
     },
     "execution_count": 68,
     "metadata": {},
     "output_type": "execute_result"
    }
   ],
   "source": [
    "# Latest Block Number\n",
    "con.eth.blockNumber"
   ]
  },
  {
   "cell_type": "markdown",
   "metadata": {},
   "source": [
    "### What is Wei?\n",
    "Wei is the smallest denomination of ether. One ether = 1,000,000,000,000,000,000 wei."
   ]
  },
  {
   "cell_type": "code",
   "execution_count": 64,
   "metadata": {},
   "outputs": [
    {
     "data": {
      "text/plain": [
       "Decimal('0.002708724165582763')"
      ]
     },
     "execution_count": 64,
     "metadata": {},
     "output_type": "execute_result"
    }
   ],
   "source": [
    "# Checking the balance of a random wallet\n",
    "account_address = \"0xDA8bB5Cf55C5aD7ebf64f24d5eb3fa95B5921230\" # My account address\n",
    "balance_wei = con.eth.getBalance(account_address) # Returns the balance in Wei\n",
    "balance_gwei = con.fromWei(balance_wei, \"gwei\")\n",
    "balance_ether = con.fromWei(balance_wei, \"ether\")\n",
    "balance_ether"
   ]
  },
  {
   "cell_type": "code",
   "execution_count": 65,
   "metadata": {},
   "outputs": [
    {
     "data": {
      "text/plain": [
       "Decimal('2708724.165582763')"
      ]
     },
     "execution_count": 65,
     "metadata": {},
     "output_type": "execute_result"
    }
   ],
   "source": [
    "balance_gwei"
   ]
  },
  {
   "cell_type": "markdown",
   "metadata": {},
   "source": [
    "### Smart Contracts\n",
    "\n",
    "Smart contracts are simply programs stored on a blockchain that run when predetermined conditions are met. They typically are used to automate the execution of an agreement so that all participants can be immediately certain of the outcome, without any intermediary's involvement or time loss. <br>\n",
    "Ethereum link: https://ethereum.org/en/developers/docs/smart-contracts/\n",
    "\n",
    "Check real Ether transactions here: https://etherscan.io/"
   ]
  },
  {
   "cell_type": "code",
   "execution_count": 29,
   "metadata": {},
   "outputs": [],
   "source": [
    "# abi: its a description of the smart contract. It isnt the code, its just a json that tells python how the contract looks.\n",
    "# address: the account address.\n",
    "\n",
    "abi = json.loads('[{\"constant\":true,\"inputs\":[],\"name\":\"name\",\"outputs\":[{\"name\":\"\",\"type\":\"string\"}],\"payable\":false,\"stateMutability\":\"view\",\"type\":\"function\"},{\"constant\":false,\"inputs\":[{\"name\":\"guy\",\"type\":\"address\"},{\"name\":\"wad\",\"type\":\"uint256\"}],\"name\":\"approve\",\"outputs\":[{\"name\":\"\",\"type\":\"bool\"}],\"payable\":false,\"stateMutability\":\"nonpayable\",\"type\":\"function\"},{\"constant\":true,\"inputs\":[],\"name\":\"totalSupply\",\"outputs\":[{\"name\":\"\",\"type\":\"uint256\"}],\"payable\":false,\"stateMutability\":\"view\",\"type\":\"function\"},{\"constant\":false,\"inputs\":[{\"name\":\"src\",\"type\":\"address\"},{\"name\":\"dst\",\"type\":\"address\"},{\"name\":\"wad\",\"type\":\"uint256\"}],\"name\":\"transferFrom\",\"outputs\":[{\"name\":\"\",\"type\":\"bool\"}],\"payable\":false,\"stateMutability\":\"nonpayable\",\"type\":\"function\"},{\"constant\":false,\"inputs\":[{\"name\":\"wad\",\"type\":\"uint256\"}],\"name\":\"withdraw\",\"outputs\":[],\"payable\":false,\"stateMutability\":\"nonpayable\",\"type\":\"function\"},{\"constant\":true,\"inputs\":[],\"name\":\"decimals\",\"outputs\":[{\"name\":\"\",\"type\":\"uint8\"}],\"payable\":false,\"stateMutability\":\"view\",\"type\":\"function\"},{\"constant\":true,\"inputs\":[{\"name\":\"\",\"type\":\"address\"}],\"name\":\"balanceOf\",\"outputs\":[{\"name\":\"\",\"type\":\"uint256\"}],\"payable\":false,\"stateMutability\":\"view\",\"type\":\"function\"},{\"constant\":true,\"inputs\":[],\"name\":\"symbol\",\"outputs\":[{\"name\":\"\",\"type\":\"string\"}],\"payable\":false,\"stateMutability\":\"view\",\"type\":\"function\"},{\"constant\":false,\"inputs\":[{\"name\":\"dst\",\"type\":\"address\"},{\"name\":\"wad\",\"type\":\"uint256\"}],\"name\":\"transfer\",\"outputs\":[{\"name\":\"\",\"type\":\"bool\"}],\"payable\":false,\"stateMutability\":\"nonpayable\",\"type\":\"function\"},{\"constant\":false,\"inputs\":[],\"name\":\"deposit\",\"outputs\":[],\"payable\":true,\"stateMutability\":\"payable\",\"type\":\"function\"},{\"constant\":true,\"inputs\":[{\"name\":\"\",\"type\":\"address\"},{\"name\":\"\",\"type\":\"address\"}],\"name\":\"allowance\",\"outputs\":[{\"name\":\"\",\"type\":\"uint256\"}],\"payable\":false,\"stateMutability\":\"view\",\"type\":\"function\"},{\"payable\":true,\"stateMutability\":\"payable\",\"type\":\"fallback\"},{\"anonymous\":false,\"inputs\":[{\"indexed\":true,\"name\":\"src\",\"type\":\"address\"},{\"indexed\":true,\"name\":\"guy\",\"type\":\"address\"},{\"indexed\":false,\"name\":\"wad\",\"type\":\"uint256\"}],\"name\":\"Approval\",\"type\":\"event\"},{\"anonymous\":false,\"inputs\":[{\"indexed\":true,\"name\":\"src\",\"type\":\"address\"},{\"indexed\":true,\"name\":\"dst\",\"type\":\"address\"},{\"indexed\":false,\"name\":\"wad\",\"type\":\"uint256\"}],\"name\":\"Transfer\",\"type\":\"event\"},{\"anonymous\":false,\"inputs\":[{\"indexed\":true,\"name\":\"dst\",\"type\":\"address\"},{\"indexed\":false,\"name\":\"wad\",\"type\":\"uint256\"}],\"name\":\"Deposit\",\"type\":\"event\"},{\"anonymous\":false,\"inputs\":[{\"indexed\":true,\"name\":\"src\",\"type\":\"address\"},{\"indexed\":false,\"name\":\"wad\",\"type\":\"uint256\"}],\"name\":\"Withdrawal\",\"type\":\"event\"}]')\n",
    "address = \"0xC02aaA39b223FE8D0A0e5C4F27eAD9083C756Cc2\""
   ]
  },
  {
   "cell_type": "code",
   "execution_count": 34,
   "metadata": {},
   "outputs": [],
   "source": [
    "contract = con.eth.contract(address=address, abi=abi) # Fetchs the contract\n",
    "contract_token = contract.functions.name().call() # Returns the contract token name\n",
    "contract_symbol = contract.functions.symbol().call() # Returns the contract token symbol\n",
    "balance_wei = contract.functions.totalSupply().call() # Balance in Wei\n",
    "balance_ether = con.fromWei(balance_wei, \"ether\") # Balance in Ether (because the token is Wrapped Ether)"
   ]
  },
  {
   "cell_type": "code",
   "execution_count": 38,
   "metadata": {},
   "outputs": [
    {
     "data": {
      "text/plain": [
       "'Wrapped Ether'"
      ]
     },
     "execution_count": 38,
     "metadata": {},
     "output_type": "execute_result"
    }
   ],
   "source": [
    "contract_token"
   ]
  },
  {
   "cell_type": "markdown",
   "metadata": {},
   "source": [
    "### CryptoCompare.com Fiat <> Crypto coverter\n",
    "\n",
    "CryptoConvert API allows you to see how much your cryptos are worth in fiat currency.<br>\n",
    "Link: https://www.cryptocompare.com/"
   ]
  },
  {
   "cell_type": "code",
   "execution_count": 132,
   "metadata": {},
   "outputs": [],
   "source": [
    "### Add the news section to datatau project\n",
    "\n",
    "def create_cyptocompare_api_url(curr_from, curr_to, api_key):\n",
    "    \"\"\"\n",
    "    Creates CyptoCompare API URL to fetch crypto and fiat exchanges.\n",
    "    \n",
    "    Parameters:\n",
    "        curr_from: List. List of crypto and/or fiat currencies to be used as a base. e.g:. [\"USD\", \"ETH\", \"EUR\", \"BTC\"]\n",
    "        curr_to: List. List of crypto and/or fiat currencies to be used as a quote. e.g:. [\"USD\", \"ETH\", \"EUR\", \"BTC\"]\n",
    "        api_key: String. Personal API key.\n",
    "    Returns:\n",
    "        Dictionary with requested exchanges.\n",
    "    \"\"\"\n",
    "\n",
    "    # Turning lists into strings.\n",
    "    curr_from = \",\".join(curr_from)\n",
    "    curr_to = \",\".join(curr_to)\n",
    "    \n",
    "    # Generating api url.\n",
    "    c_api_url = f\"https://min-api.cryptocompare.com/data/pricemulti?fsyms={curr_from}&tsyms={curr_to}&api_key={api_key}\"\n",
    "    \n",
    "    # Requesting data and returning it as a dictionary.\n",
    "    r = requests.get(c_api_url)\n",
    "    return r.json()"
   ]
  },
  {
   "cell_type": "code",
   "execution_count": 133,
   "metadata": {},
   "outputs": [
    {
     "data": {
      "text/plain": [
       "{'ETH': {'BTC': 0.08323, 'USD': 3928.28, 'EUR': 3493.95}}"
      ]
     },
     "execution_count": 133,
     "metadata": {},
     "output_type": "execute_result"
    }
   ],
   "source": [
    "api_key = \"5da25186e504d6fddd0ece4272d9193bb671e2f0742e5a023b63131cde2f75f9\"\n",
    "x_rate = create_cyptocompare_api_url([\"ETH\"], [\"BTC\", \"USD\", \"EUR\"], api_key)\n",
    "x_rate"
   ]
  },
  {
   "cell_type": "markdown",
   "metadata": {},
   "source": [
    "### Computing the gas per transaction\n",
    "\n",
    "The Gas Fee or simply Gas is the unit used in the Ethereum Network to know how much money you will have to pay to perform an operation. This value is composed by a fixed units amount and a variable fee.<br>\n",
    "In terms of transactions, each one is worth 21.000 gas units.<br>\n",
    "The gas fee is computed as follows: Gas units (limit) * Gas price per unit (in gwei) = Gas fee<br>\n",
    "To fetch the current gas variable fee we will use the EtherScan.com API: https://etherscan.io/"
   ]
  },
  {
   "cell_type": "code",
   "execution_count": 128,
   "metadata": {},
   "outputs": [],
   "source": [
    "def fetching_gas(api_key):\n",
    "    \"\"\"\n",
    "    Fetch current gas price from EtherScan.io\n",
    "    \n",
    "    Parameters:\n",
    "        api_key: String. API key.\n",
    "    Returns: \n",
    "        Dictionary with the Safe, Propose and Fast gas price. E.g.:\n",
    "        {'units_gwei': \n",
    "         {'SafeGasPrice': '117', 'ProposeGasPrice': '118', 'FastGasPrice': '120'},\n",
    "        'units_wei': \n",
    "         {'SafeGasPrice': 117000000000, 'ProposeGasPrice': 118000000000, 'FastGasPrice': 120000000000},\n",
    "        'units_ether': \n",
    "         {'SafeGasPrice': Decimal('1.17E-7'), 'ProposeGasPrice': Decimal('1.18E-7'), 'FastGasPrice': Decimal('1.2E-7')}}\n",
    "    \"\"\"\n",
    "    \n",
    "    # Create EtherScan API url.\n",
    "    etherscan_api_url = f\"https://api.etherscan.io/api?module=gastracker&action=gasoracle&apikey={api_key}\"\n",
    "    \n",
    "    # Fetch data.\n",
    "    r = requests.get(etherscan_api_url).json()[\"result\"]\n",
    "    gas_fees = {\"units_gwei\": {\"SafeGasPrice\": r[\"SafeGasPrice\"], \n",
    "                         \"ProposeGasPrice\": r[\"ProposeGasPrice\"], \n",
    "                         \"FastGasPrice\": r[\"FastGasPrice\"]}}\n",
    "    \n",
    "    # Update dict with wei value\n",
    "    gas_wei = {k: con.toWei(v, \"gwei\") for k, v in gas_fees[\"units_gwei\"].items()}\n",
    "    gas_fees[\"units_wei\"] = gas_wei\n",
    "\n",
    "    # Update dict with ether value\n",
    "    gas_ether = {k: con.fromWei(v, \"ether\") for k, v in gas_fees[\"units_wei\"].items()}\n",
    "    gas_fees[\"units_ether\"] = gas_ether\n",
    "    \n",
    "    return gas_fees"
   ]
  },
  {
   "cell_type": "code",
   "execution_count": 129,
   "metadata": {},
   "outputs": [
    {
     "data": {
      "text/plain": [
       "{'units_gwei': {'SafeGasPrice': '118',\n",
       "  'ProposeGasPrice': '119',\n",
       "  'FastGasPrice': '119'},\n",
       " 'units_wei': {'SafeGasPrice': 118000000000,\n",
       "  'ProposeGasPrice': 119000000000,\n",
       "  'FastGasPrice': 119000000000},\n",
       " 'units_ether': {'SafeGasPrice': Decimal('1.18E-7'),\n",
       "  'ProposeGasPrice': Decimal('1.19E-7'),\n",
       "  'FastGasPrice': Decimal('1.19E-7')}}"
      ]
     },
     "execution_count": 129,
     "metadata": {},
     "output_type": "execute_result"
    }
   ],
   "source": [
    "etherscan_api_key = \"GNVD42JISEDT5R69MFFFKBEK3NGYQZ2DA4\"\n",
    "gas_fees = fetching_gas(etherscan_api_key)\n",
    "gas_fees"
   ]
  },
  {
   "cell_type": "code",
   "execution_count": 130,
   "metadata": {},
   "outputs": [],
   "source": [
    "def compute_transaction_fee(gas_fees, fiat_symbol, fiat_value):\n",
    "    \"\"\"\n",
    "    Compute transaction fee given the current gas price and fiat currency data.\n",
    "    \n",
    "    Parameters:\n",
    "        gas_fees: Dictionary. Dictionary coming from the fetching_gas function.\n",
    "        fiat_symbol: String. Fiat currency symbol. e.g.: \"EUR\"\n",
    "        fiat_value: Float. Fiat currency value.\n",
    "    \n",
    "    Returns:\n",
    "        Same input dictionary with additional key:value pair: Safe, Propose and Fast fee in fiat currency.\n",
    "    \"\"\"\n",
    "    \n",
    "    fixed_gas_fee = 21000 # This is the fixed gas fee per transaction.\n",
    "    \n",
    "    # Converting ether into fiat currency\n",
    "    gas_fiat = {f\"{k}_{fiat_symbol}\": float(v) * fiat_value * fixed_gas_fee for k, v in gas_fees[\"units_ether\"].items()}\n",
    "    gas_fees[\"units_fiat\"] = gas_fiat\n",
    "    return gas_fees"
   ]
  },
  {
   "cell_type": "code",
   "execution_count": 139,
   "metadata": {},
   "outputs": [
    {
     "data": {
      "text/plain": [
       "{'units_gwei': {'SafeGasPrice': '118',\n",
       "  'ProposeGasPrice': '119',\n",
       "  'FastGasPrice': '119'},\n",
       " 'units_wei': {'SafeGasPrice': 118000000000,\n",
       "  'ProposeGasPrice': 119000000000,\n",
       "  'FastGasPrice': 119000000000},\n",
       " 'units_ether': {'SafeGasPrice': Decimal('1.18E-7'),\n",
       "  'ProposeGasPrice': Decimal('1.19E-7'),\n",
       "  'FastGasPrice': Decimal('1.19E-7')},\n",
       " 'units_fiat': {'SafeGasPrice_USD': 9.73427784,\n",
       "  'ProposeGasPrice_USD': 9.81677172,\n",
       "  'FastGasPrice_USD': 9.81677172}}"
      ]
     },
     "execution_count": 139,
     "metadata": {},
     "output_type": "execute_result"
    }
   ],
   "source": [
    "fiat_symbol = \"USD\"\n",
    "fiat_value = x_rate[\"ETH\"][fiat_symbol]\n",
    "compute_transaction_fee(gas_fees, fiat_symbol, fiat_value)"
   ]
  },
  {
   "cell_type": "code",
   "execution_count": null,
   "metadata": {},
   "outputs": [],
   "source": []
  },
  {
   "cell_type": "code",
   "execution_count": null,
   "metadata": {},
   "outputs": [],
   "source": []
  },
  {
   "cell_type": "code",
   "execution_count": null,
   "metadata": {},
   "outputs": [],
   "source": []
  },
  {
   "cell_type": "code",
   "execution_count": null,
   "metadata": {},
   "outputs": [],
   "source": []
  },
  {
   "cell_type": "code",
   "execution_count": null,
   "metadata": {},
   "outputs": [],
   "source": []
  },
  {
   "cell_type": "code",
   "execution_count": null,
   "metadata": {},
   "outputs": [],
   "source": []
  },
  {
   "cell_type": "code",
   "execution_count": null,
   "metadata": {},
   "outputs": [],
   "source": []
  }
 ],
 "metadata": {
  "kernelspec": {
   "display_name": "Python [conda env:labs_env]",
   "language": "python",
   "name": "conda-env-labs_env-py"
  },
  "language_info": {
   "codemirror_mode": {
    "name": "ipython",
    "version": 3
   },
   "file_extension": ".py",
   "mimetype": "text/x-python",
   "name": "python",
   "nbconvert_exporter": "python",
   "pygments_lexer": "ipython3",
   "version": "3.7.5"
  }
 },
 "nbformat": 4,
 "nbformat_minor": 5
}
